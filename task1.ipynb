{
 "cells": [
  {
   "cell_type": "code",
   "execution_count": 1,
   "id": "ecc0e7e7-c365-446d-b5fa-7526db6ede1a",
   "metadata": {},
   "outputs": [
    {
     "name": "stdout",
     "output_type": "stream",
     "text": [
      "Prediction for (Overcast, Mild): No\n",
      "Confusion Matrix:\n",
      " [[0 0]\n",
      " [5 0]]\n",
      "Accuracy: 0.0\n"
     ]
    }
   ],
   "source": [
    "from sklearn.model_selection import train_test_split\n",
    "from sklearn.neighbors import KNeighborsClassifier\n",
    "from sklearn.metrics import confusion_matrix, accuracy_score\n",
    "import numpy as np\n",
    "\n",
    "# Manually creating the dataset without pandas\n",
    "# Converting categorical data manually (Sunny=0, Overcast=1, Rainy=2, Hot=0, Mild=1, Cool=2)\n",
    "data = [\n",
    "    [0, 0, 0], [0, 0, 0], [1, 0, 1], [2, 1, 1], [2, 2, 1], [2, 2, 0], \n",
    "    [1, 2, 1], [0, 1, 0], [0, 2, 1], [2, 1, 1], [0, 1, 1], [1, 1, 1], \n",
    "    [1, 0, 1], [2, 1, 0]\n",
    "]\n",
    "\n",
    "# Splitting data into features (X) and target (y)\n",
    "X = [row[:2] for row in data]  # Weather and Temperature\n",
    "y = [row[2] for row in data]   # Play (Yes or No)\n",
    "\n",
    "# Training the KNN model\n",
    "knn = KNeighborsClassifier(n_neighbors=3)  # Using k=3\n",
    "X_train, X_test, y_train, y_test = train_test_split(X, y, test_size=0.3, random_state=0)\n",
    "knn.fit(X_train, y_train)\n",
    "\n",
    "# Predicting for the given condition: Weather = Overcast (1), Temperature = Mild (1)\n",
    "test_condition = np.array([[1, 1]])  # Overcast, Mild\n",
    "prediction = knn.predict(test_condition)\n",
    "\n",
    "# Predicting on the test set to apply the confusion matrix\n",
    "y_pred = knn.predict(X_test)\n",
    "conf_matrix = confusion_matrix(y_test, y_pred)\n",
    "accuracy = accuracy_score(y_test, y_pred)\n",
    "\n",
    "# Displaying results\n",
    "print(\"Prediction for (Overcast, Mild):\", \"Yes\" if prediction[0] == 1 else \"No\")\n",
    "print(\"Confusion Matrix:\\n\", conf_matrix)\n",
    "print(\"Accuracy:\", accuracy)\n"
   ]
  },
  {
   "cell_type": "code",
   "execution_count": null,
   "id": "3e8d976c-abe1-49fa-b97a-0005f6618310",
   "metadata": {},
   "outputs": [],
   "source": []
  }
 ],
 "metadata": {
  "kernelspec": {
   "display_name": "Python 3 (ipykernel)",
   "language": "python",
   "name": "python3"
  },
  "language_info": {
   "codemirror_mode": {
    "name": "ipython",
    "version": 3
   },
   "file_extension": ".py",
   "mimetype": "text/x-python",
   "name": "python",
   "nbconvert_exporter": "python",
   "pygments_lexer": "ipython3",
   "version": "3.12.7"
  }
 },
 "nbformat": 4,
 "nbformat_minor": 5
}
